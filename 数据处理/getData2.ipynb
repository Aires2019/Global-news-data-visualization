{
 "cells": [
  {
   "cell_type": "code",
   "execution_count": 6,
   "metadata": {},
   "outputs": [],
   "source": [
    "from datetime import datetime as dt\n",
    "from datetime import date,timedelta\n",
    "import datetime\n",
    "import shutil\n",
    "import requests,zipfile\n",
    "import pandas as pd\n",
    "import os"
   ]
  },
  {
   "cell_type": "code",
   "execution_count": 10,
   "metadata": {},
   "outputs": [],
   "source": [
    "def write_date():\n",
    "    f=open(\"date.txt\",\"w\")\n",
    "    time=datetime.date(2022,6,30)\n",
    "    end=datetime.date(2022,7,1)\n",
    "    while(time!=end):\n",
    "        f.write(str(time.strftime(\"%Y%m%d\"))+\"\\n\")\n",
    "        time+=timedelta(days=1)\n",
    "    f.close()\n",
    "  \n",
    "write_date()"
   ]
  },
  {
   "cell_type": "code",
   "execution_count": 11,
   "metadata": {},
   "outputs": [],
   "source": [
    "def get_data(url):\n",
    "    # 获取url\n",
    "    file_name = url.split(\"gdeltv2/\")[1].split(\".zip\")[0]\n",
    "    r = requests.get(url)\n",
    "    temp_file=open(\"./temp.zip\", \"wb\") \n",
    "    temp_file.write(r.content)\n",
    "    temp_file.close()\n",
    "    try:\n",
    "        my_zip=zipfile.ZipFile('./temp.zip','r') \n",
    "        my_zip.extract(file_name,path=\"./data\")\n",
    "        my_zip.close()\n",
    "    except Exception:\n",
    "        print(\"%s not exist\" % file_name)\n",
    "        return None\n",
    "\n",
    "def get_data_df():\n",
    "    \n",
    "    #日期读取\n",
    "    f=open(\"date.txt\")\n",
    "    date=[]\n",
    "    time=[]\n",
    "    for i in f.readlines():\n",
    "        date.append(i.strip(\"\\n\"))\n",
    "    f.close()\n",
    "    f=open(\"time.txt\")\n",
    "    for i in f.readlines():\n",
    "        time.append(i.strip(\"\\n\"))\n",
    "    f.close()\n",
    "    \n",
    "    #地址整合\n",
    "    url1 = \"http://data.gdeltproject.org/gdeltv2/%s.export.CSV.zip\"\n",
    "    url2 = \"http://data.gdeltproject.org/gdeltv2/%s.mentions.CSV.zip\"\n",
    "    # count=0#防止外存不足，下载十五天，移动到外界硬盘，然后删除数据\n",
    "    \n",
    "    for i in date:\n",
    "        # if count==15:\n",
    "        #     shutil.move(\"./data\",\"/Volumes/LXD/code/data\")\n",
    "        #     os.rename(\"/Volumes/LXD/code/data/data\",\"/Volumes/LXD/code/data/%s\"%i)\n",
    "        #     print(\"--------------------------\")\n",
    "        #     count=0\n",
    "        # count+=1\n",
    "        for j in time:\n",
    "            str_real_time=i+j\n",
    "            get_data(url1%str_real_time)\n",
    "            get_data(url2%str_real_time)\n",
    "        print(\"%s-complete\"%i)\n",
    "        # print(str_real_time)"
   ]
  },
  {
   "cell_type": "code",
   "execution_count": 12,
   "metadata": {},
   "outputs": [
    {
     "name": "stdout",
     "output_type": "stream",
     "text": [
      "20220630-complete\n"
     ]
    }
   ],
   "source": [
    "get_data_df()"
   ]
  },
  {
   "cell_type": "code",
   "execution_count": null,
   "metadata": {},
   "outputs": [],
   "source": []
  }
 ],
 "metadata": {
  "kernelspec": {
   "display_name": "Python 3",
   "language": "python",
   "name": "python3"
  },
  "language_info": {
   "codemirror_mode": {
    "name": "ipython",
    "version": 3
   },
   "file_extension": ".py",
   "mimetype": "text/x-python",
   "name": "python",
   "nbconvert_exporter": "python",
   "pygments_lexer": "ipython3",
   "version": "3.8.8"
  },
  "vscode": {
   "interpreter": {
    "hash": "4c43646733d5d510be4dd10c70ca7b6c191317550a7a347c9972975f678cf324"
   }
  }
 },
 "nbformat": 4,
 "nbformat_minor": 2
}
